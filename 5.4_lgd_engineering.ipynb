{
 "cells": [
  {
   "cell_type": "code",
   "id": "initial_id",
   "metadata": {
    "collapsed": true,
    "ExecuteTime": {
     "end_time": "2024-08-19T05:03:07.212353Z",
     "start_time": "2024-08-19T05:03:05.204970Z"
    }
   },
   "source": "from dcr import *",
   "outputs": [],
   "execution_count": 1
  },
  {
   "metadata": {
    "ExecuteTime": {
     "end_time": "2024-08-19T05:03:07.739129Z",
     "start_time": "2024-08-19T05:03:07.212353Z"
    }
   },
   "cell_type": "code",
   "source": "data, _, _, _, _, _, _ = dataprep(data)",
   "id": "270e49b0be85f536",
   "outputs": [],
   "execution_count": 2
  },
  {
   "metadata": {
    "ExecuteTime": {
     "end_time": "2024-08-19T05:03:07.748055Z",
     "start_time": "2024-08-19T05:03:07.740133Z"
    }
   },
   "cell_type": "code",
   "source": "data['default_time']",
   "id": "2b8d41a301c5d8e1",
   "outputs": [
    {
     "data": {
      "text/plain": [
       "0        0.0\n",
       "1        0.0\n",
       "2        0.0\n",
       "3        0.0\n",
       "4        0.0\n",
       "        ... \n",
       "58996    0.0\n",
       "58997    0.0\n",
       "58998    0.0\n",
       "58999    0.0\n",
       "59000    0.0\n",
       "Name: default_time, Length: 59001, dtype: float64"
      ]
     },
     "execution_count": 3,
     "metadata": {},
     "output_type": "execute_result"
    }
   ],
   "execution_count": 3
  },
  {
   "metadata": {
    "ExecuteTime": {
     "end_time": "2024-08-19T05:03:45.398666Z",
     "start_time": "2024-08-19T05:03:45.394222Z"
    }
   },
   "cell_type": "code",
   "source": "data['PD'] = data['default_time'].mean()",
   "id": "bc7c88edd5f0e04",
   "outputs": [],
   "execution_count": 5
  },
  {
   "metadata": {
    "ExecuteTime": {
     "end_time": "2024-08-19T05:42:26.027591Z",
     "start_time": "2024-08-19T05:42:26.017906Z"
    }
   },
   "cell_type": "code",
   "source": "data_default = data.loc[data['default_time'] == 1, :].copy()\n",
   "id": "3db2e0c6af8306e5",
   "outputs": [],
   "execution_count": 10
  },
  {
   "metadata": {
    "ExecuteTime": {
     "end_time": "2024-08-19T05:44:19.031922Z",
     "start_time": "2024-08-19T05:44:19.027750Z"
    }
   },
   "cell_type": "code",
   "source": "data_default.loc[:, 'res_period'] = data_default.loc[:, 'res_time'] - data_default.loc[:, 'time']\n",
   "id": "cb6831914fcdb36d",
   "outputs": [],
   "execution_count": 12
  },
  {
   "metadata": {
    "ExecuteTime": {
     "end_time": "2024-08-19T05:45:01.154414Z",
     "start_time": "2024-08-19T05:45:00.981583Z"
    }
   },
   "cell_type": "code",
   "source": "data_default.loc[:, 'res_period'].hist(bins=20)\n",
   "id": "7f66eac98ca12858",
   "outputs": [
    {
     "data": {
      "text/plain": [
       "<Axes: >"
      ]
     },
     "execution_count": 13,
     "metadata": {},
     "output_type": "execute_result"
    },
    {
     "data": {
      "text/plain": [
       "<Figure size 640x480 with 1 Axes>"
      ],
      "image/png": "[encoded data removed]"
     },
     "metadata": {},
     "output_type": "display_data"
    }
   ],
   "execution_count": 13
  },
  {
   "metadata": {},
   "cell_type": "code",
   "outputs": [],
   "execution_count": null,
   "source": "",
   "id": "3e956f91e651a515"
  }
 ],
 "metadata": {
  "kernelspec": {
   "display_name": "Python 3",
   "language": "python",
   "name": "python3"
  },
  "language_info": {
   "codemirror_mode": {
    "name": "ipython",
    "version": 2
   },
   "file_extension": ".py",
   "mimetype": "text/x-python",
   "name": "python",
   "nbconvert_exporter": "python",
   "pygments_lexer": "ipython2",
   "version": "2.7.6"
  }
 },
 "nbformat": 4,
 "nbformat_minor": 5
}
