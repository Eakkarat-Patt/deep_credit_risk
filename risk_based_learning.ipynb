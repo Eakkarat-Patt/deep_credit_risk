{
 "cells": [
  {
   "cell_type": "code",
   "id": "initial_id",
   "metadata": {
    "collapsed": true,
    "ExecuteTime": {
     "end_time": "2024-08-14T03:11:01.448798Z",
     "start_time": "2024-08-14T03:11:01.358546Z"
    }
   },
   "source": "import numpy as np",
   "outputs": [],
   "execution_count": 1
  },
  {
   "metadata": {
    "ExecuteTime": {
     "end_time": "2024-08-14T03:11:14.729627Z",
     "start_time": "2024-08-14T03:11:14.724939Z"
    }
   },
   "cell_type": "code",
   "source": "d = np.array([0, 0, 0, 1])\n",
   "id": "9ecdfae9d9081cd3",
   "outputs": [],
   "execution_count": 2
  },
  {
   "metadata": {
    "ExecuteTime": {
     "end_time": "2024-08-14T03:12:25.698483Z",
     "start_time": "2024-08-14T03:12:25.690263Z"
    }
   },
   "cell_type": "code",
   "source": [
    "def func_loglike(pi):\n",
    "    loglike_indiv = d*np.log(pi) + (1-d) * np.log(1 - pi)\n",
    "    loglike = np.sum(loglike_indiv)\n",
    "    return loglike\n"
   ],
   "id": "19cd10669fc93c4f",
   "outputs": [],
   "execution_count": 3
  },
  {
   "metadata": {},
   "cell_type": "code",
   "outputs": [],
   "execution_count": null,
   "source": [
    "for pi_s in range(1, 100, 1):\n",
    "    loglike_pi = func_loglike(pi_s / 100)\n",
    "    "
   ],
   "id": "6a13720b25d2f69f"
  }
 ],
 "metadata": {
  "kernelspec": {
   "display_name": "Python 3",
   "language": "python",
   "name": "python3"
  },
  "language_info": {
   "codemirror_mode": {
    "name": "ipython",
    "version": 2
   },
   "file_extension": ".py",
   "mimetype": "text/x-python",
   "name": "python",
   "nbconvert_exporter": "python",
   "pygments_lexer": "ipython2",
   "version": "2.7.6"
  }
 },
 "nbformat": 4,
 "nbformat_minor": 5
}
